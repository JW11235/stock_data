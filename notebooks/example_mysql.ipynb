{
 "cells": [
  {
   "cell_type": "code",
   "execution_count": 1,
   "metadata": {},
   "outputs": [
    {
     "name": "stdout",
     "output_type": "stream",
     "text": [
      "Populating the interactive namespace from numpy and matplotlib\n"
     ]
    }
   ],
   "source": [
    "%pylab inline\n",
    "%load_ext autoreload\n",
    "%autoreload 2"
   ]
  },
  {
   "cell_type": "code",
   "execution_count": 2,
   "metadata": {},
   "outputs": [],
   "source": [
    "import numpy as np\n",
    "import pandas as pd\n",
    "import pymysql\n",
    "import datetime as dt"
   ]
  },
  {
   "cell_type": "code",
   "execution_count": 3,
   "metadata": {},
   "outputs": [],
   "source": [
    "# 打开数据库连接\n",
    "conn = pymysql.connect(host='localhost', user='root', password='abc123', database='testdb')\n",
    "\n",
    "# 使用 cursor() 方法创建一个游标对象 cursor\n",
    "cursor = conn.cursor()"
   ]
  },
  {
   "cell_type": "code",
   "execution_count": 4,
   "metadata": {},
   "outputs": [
    {
     "data": {
      "text/plain": [
       "0"
      ]
     },
     "execution_count": 4,
     "metadata": {},
     "output_type": "execute_result"
    }
   ],
   "source": [
    "# # 创建数据库表\n",
    "\n",
    "# # 使用 execute() 方法执行 SQL，如果表存在则删除\n",
    "# cursor.execute('DROP TABLE IF EXISTS TEST01')\n",
    " \n",
    "# # 使用预处理语句创建表\n",
    "# sql = \"\"\"CREATE TABLE TEST01 (\n",
    "#          trade_date  DATETIME NOT NULL,\n",
    "#          stock_code  VARCHAR(20) NOT NULL,\n",
    "#          primary key (trade_date, stock_code)\n",
    "#         )\"\"\"\n",
    " \n",
    "# cursor.execute(sql)"
   ]
  },
  {
   "cell_type": "code",
   "execution_count": 9,
   "metadata": {},
   "outputs": [],
   "source": [
    "# 数据库插入操作\n",
    "# sql = \"\"\"INSERT INTO TEST01(trade_date, stock_code)\n",
    "#          VALUES('2020-01-03', '000001.SZ')\"\"\"\n",
    "\n",
    "# try:\n",
    "#     cursor.execute(sql)\n",
    "#     conn.commit()\n",
    "# except:\n",
    "#     conn.rollback()\n",
    "\n",
    "\n",
    "# 数据插入操作-多行 方法1\n",
    "# add_list = [('2020-01-04', '000001.SZ'), ('2020-01-05', '000001.SZ'), ('2020-01-06', '000001.SZ')]\n",
    "# sql = \"\"\"INSERT INTO TEST01(trade_date, stock_code) VALUES\"\"\"\n",
    "\n",
    "# for i,(t,d) in enumerate(add_list):\n",
    "#     if i>0:\n",
    "#         sql = sql + \", ('\" + t + \"', '\" + d + \"')\"\n",
    "#     else:\n",
    "#         sql = sql + \" ('\" + t + \"', '\" + d + \"')\"\n",
    "\n",
    "# try:\n",
    "#     cursor.execute(sql)\n",
    "#     conn.commit()\n",
    "# except:\n",
    "#     conn.rollback()\n",
    "    \n",
    "    \n",
    "# 数据插入操作-多行 方法2\n",
    "add_list = [('2020-02-01', '000002.SZ'), ('2020-02-02', '000002.SZ'), ('2020-02-03', '000002.SZ')]\n",
    "sql = \"\"\"INSERT INTO TEST01(trade_date, stock_code) VALUES(%s, %s)\"\"\"\n",
    "\n",
    "try:\n",
    "    cursor.executemany(sql, add_list)\n",
    "    conn.commit()\n",
    "except:\n",
    "    conn.rollback()\n",
    "    \n",
    "    \n",
    "\n"
   ]
  },
  {
   "cell_type": "code",
   "execution_count": null,
   "metadata": {},
   "outputs": [],
   "source": []
  },
  {
   "cell_type": "code",
   "execution_count": 6,
   "metadata": {},
   "outputs": [],
   "source": [
    "# 数据库查询操作\n",
    "sql = \"\"\"\n",
    "        SELECT * FROM TEST01;\n",
    "    \"\"\"\n",
    "\n",
    "try:\n",
    "    cursor.execute(sql)\n",
    "    results = cursor.fetchall()\n",
    "except:\n",
    "    print('Error: unable to fetch data!')\n",
    "    \n"
   ]
  },
  {
   "cell_type": "code",
   "execution_count": 7,
   "metadata": {},
   "outputs": [
    {
     "data": {
      "text/plain": [
       "((datetime.datetime(2020, 1, 4, 0, 0), '000001.SZ'),\n",
       " (datetime.datetime(2020, 1, 5, 0, 0), '000001.SZ'),\n",
       " (datetime.datetime(2020, 1, 6, 0, 0), '000001.SZ'))"
      ]
     },
     "execution_count": 7,
     "metadata": {},
     "output_type": "execute_result"
    }
   ],
   "source": [
    "results"
   ]
  },
  {
   "cell_type": "code",
   "execution_count": null,
   "metadata": {},
   "outputs": [],
   "source": [
    "# 删除表\n"
   ]
  },
  {
   "cell_type": "code",
   "execution_count": 24,
   "metadata": {},
   "outputs": [],
   "source": [
    "conn.close()"
   ]
  },
  {
   "cell_type": "code",
   "execution_count": null,
   "metadata": {},
   "outputs": [],
   "source": []
  },
  {
   "cell_type": "code",
   "execution_count": null,
   "metadata": {},
   "outputs": [],
   "source": []
  },
  {
   "cell_type": "code",
   "execution_count": null,
   "metadata": {},
   "outputs": [],
   "source": []
  },
  {
   "cell_type": "code",
   "execution_count": null,
   "metadata": {},
   "outputs": [],
   "source": []
  }
 ],
 "metadata": {
  "kernelspec": {
   "display_name": "Python 3",
   "language": "python",
   "name": "python3"
  },
  "language_info": {
   "codemirror_mode": {
    "name": "ipython",
    "version": 3
   },
   "file_extension": ".py",
   "mimetype": "text/x-python",
   "name": "python",
   "nbconvert_exporter": "python",
   "pygments_lexer": "ipython3",
   "version": "3.7.6"
  }
 },
 "nbformat": 4,
 "nbformat_minor": 4
}
