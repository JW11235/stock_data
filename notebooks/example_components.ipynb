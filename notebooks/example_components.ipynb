{
 "cells": [
  {
   "cell_type": "code",
   "execution_count": null,
   "metadata": {},
   "outputs": [],
   "source": [
    "# 统计各行业的股票数量"
   ]
  },
  {
   "cell_type": "code",
   "execution_count": 1,
   "metadata": {},
   "outputs": [
    {
     "name": "stdout",
     "output_type": "stream",
     "text": [
      "Populating the interactive namespace from numpy and matplotlib\n"
     ]
    }
   ],
   "source": [
    "%pylab inline\n",
    "%load_ext autoreload\n",
    "%autoreload 2"
   ]
  },
  {
   "cell_type": "code",
   "execution_count": 2,
   "metadata": {},
   "outputs": [],
   "source": [
    "import os\n",
    "import numpy as np\n",
    "import pandas as pd\n",
    "import baostock as bs\n",
    "\n",
    "import sys\n",
    "sys.path.append('..')"
   ]
  },
  {
   "cell_type": "code",
   "execution_count": 3,
   "metadata": {},
   "outputs": [
    {
     "name": "stdout",
     "output_type": "stream",
     "text": [
      "login success!\n"
     ]
    }
   ],
   "source": [
    "lg = bs.login()"
   ]
  },
  {
   "cell_type": "markdown",
   "metadata": {},
   "source": [
    "### 沪深300"
   ]
  },
  {
   "cell_type": "code",
   "execution_count": 39,
   "metadata": {},
   "outputs": [],
   "source": [
    "rs = bs.query_hs300_stocks()\n",
    "hs300_comps_df = pd.DataFrame(rs.data, columns=rs.fields)"
   ]
  },
  {
   "cell_type": "code",
   "execution_count": 40,
   "metadata": {},
   "outputs": [],
   "source": [
    "rs2 = bs.query_stock_industry()\n",
    "industry_df = pd.DataFrame(rs2.data, columns=rs2.fields)"
   ]
  },
  {
   "cell_type": "code",
   "execution_count": 41,
   "metadata": {},
   "outputs": [],
   "source": [
    "df = pd.merge(hs300_comps_df, industry.loc[:, ['code', 'industry']], left_on='code', \n",
    "              right_on='code', how='inner')"
   ]
  },
  {
   "cell_type": "code",
   "execution_count": 42,
   "metadata": {},
   "outputs": [],
   "source": [
    "summary = df.groupby('industry').apply(len)"
   ]
  },
  {
   "cell_type": "code",
   "execution_count": 43,
   "metadata": {},
   "outputs": [
    {
     "data": {
      "text/plain": [
       "industry\n",
       "医药生物    38\n",
       "非银金融    37\n",
       "电子      33\n",
       "银行      23\n",
       "食品饮料    15\n",
       "化工      14\n",
       "计算机     13\n",
       "交通运输    13\n",
       "电气设备    12\n",
       "机械设备    10\n",
       "房地产     10\n",
       "汽车      10\n",
       "有色金属     9\n",
       "国防军工     9\n",
       "传媒       8\n",
       "公用事业     7\n",
       "建筑装饰     6\n",
       "家用电器     6\n",
       "农林牧渔     5\n",
       "通信       4\n",
       "采掘       4\n",
       "建筑材料     3\n",
       "轻工制造     3\n",
       "商业贸易     3\n",
       "钢铁       3\n",
       "休闲服务     2\n",
       "dtype: int64"
      ]
     },
     "execution_count": 43,
     "metadata": {},
     "output_type": "execute_result"
    }
   ],
   "source": [
    "summary.sort_values(ascending=False)"
   ]
  },
  {
   "cell_type": "markdown",
   "metadata": {},
   "source": [
    "### 中证500"
   ]
  },
  {
   "cell_type": "code",
   "execution_count": 21,
   "metadata": {},
   "outputs": [],
   "source": [
    "rs = bs.query_zz500_stocks()\n",
    "zz500_comps_df = pd.DataFrame(rs.data, columns=rs.fields)"
   ]
  },
  {
   "cell_type": "code",
   "execution_count": 27,
   "metadata": {},
   "outputs": [
    {
     "data": {
      "text/html": [
       "<div>\n",
       "<style scoped>\n",
       "    .dataframe tbody tr th:only-of-type {\n",
       "        vertical-align: middle;\n",
       "    }\n",
       "\n",
       "    .dataframe tbody tr th {\n",
       "        vertical-align: top;\n",
       "    }\n",
       "\n",
       "    .dataframe thead th {\n",
       "        text-align: right;\n",
       "    }\n",
       "</style>\n",
       "<table border=\"1\" class=\"dataframe\">\n",
       "  <thead>\n",
       "    <tr style=\"text-align: right;\">\n",
       "      <th></th>\n",
       "      <th>updateDate</th>\n",
       "      <th>code</th>\n",
       "      <th>code_name</th>\n",
       "    </tr>\n",
       "  </thead>\n",
       "  <tbody>\n",
       "    <tr>\n",
       "      <th>0</th>\n",
       "      <td>2021-08-09</td>\n",
       "      <td>sh.600006</td>\n",
       "      <td>东风汽车</td>\n",
       "    </tr>\n",
       "    <tr>\n",
       "      <th>1</th>\n",
       "      <td>2021-08-09</td>\n",
       "      <td>sh.600008</td>\n",
       "      <td>首创环保</td>\n",
       "    </tr>\n",
       "    <tr>\n",
       "      <th>2</th>\n",
       "      <td>2021-08-09</td>\n",
       "      <td>sh.600021</td>\n",
       "      <td>上海电力</td>\n",
       "    </tr>\n",
       "    <tr>\n",
       "      <th>3</th>\n",
       "      <td>2021-08-09</td>\n",
       "      <td>sh.600022</td>\n",
       "      <td>山东钢铁</td>\n",
       "    </tr>\n",
       "    <tr>\n",
       "      <th>4</th>\n",
       "      <td>2021-08-09</td>\n",
       "      <td>sh.600026</td>\n",
       "      <td>中远海能</td>\n",
       "    </tr>\n",
       "  </tbody>\n",
       "</table>\n",
       "</div>"
      ],
      "text/plain": [
       "   updateDate       code code_name\n",
       "0  2021-08-09  sh.600006      东风汽车\n",
       "1  2021-08-09  sh.600008      首创环保\n",
       "2  2021-08-09  sh.600021      上海电力\n",
       "3  2021-08-09  sh.600022      山东钢铁\n",
       "4  2021-08-09  sh.600026      中远海能"
      ]
     },
     "execution_count": 27,
     "metadata": {},
     "output_type": "execute_result"
    }
   ],
   "source": [
    "zz500_comps_df.head()"
   ]
  },
  {
   "cell_type": "code",
   "execution_count": 30,
   "metadata": {},
   "outputs": [],
   "source": [
    "df = pd.merge(zz500_comps_df, industry.loc[:, ['code', 'industry']], left_on='code', \n",
    "              right_on='code', how='inner')"
   ]
  },
  {
   "cell_type": "code",
   "execution_count": 34,
   "metadata": {},
   "outputs": [],
   "source": [
    "summary = df.groupby('industry').apply(len)"
   ]
  },
  {
   "cell_type": "code",
   "execution_count": 37,
   "metadata": {},
   "outputs": [
    {
     "data": {
      "text/plain": [
       "industry\n",
       "医药生物    48\n",
       "化工      38\n",
       "电子      32\n",
       "房地产     28\n",
       "公用事业    27\n",
       "计算机     27\n",
       "传媒      25\n",
       "有色金属    23\n",
       "交通运输    22\n",
       "非银金融    21\n",
       "钢铁      18\n",
       "汽车      18\n",
       "机械设备    17\n",
       "电气设备    17\n",
       "食品饮料    16\n",
       "国防军工    16\n",
       "商业贸易    14\n",
       "采掘      14\n",
       "通信      13\n",
       "银行      12\n",
       "农林牧渔    11\n",
       "建筑装饰    10\n",
       "建筑材料    10\n",
       "轻工制造     9\n",
       "家用电器     7\n",
       "纺织服装     3\n",
       "综合       2\n",
       "休闲服务     2\n",
       "dtype: int64"
      ]
     },
     "execution_count": 37,
     "metadata": {},
     "output_type": "execute_result"
    }
   ],
   "source": [
    "summary.sort_values(ascending=False)"
   ]
  },
  {
   "cell_type": "code",
   "execution_count": null,
   "metadata": {},
   "outputs": [],
   "source": []
  }
 ],
 "metadata": {
  "kernelspec": {
   "display_name": "Python 3",
   "language": "python",
   "name": "python3"
  },
  "language_info": {
   "codemirror_mode": {
    "name": "ipython",
    "version": 3
   },
   "file_extension": ".py",
   "mimetype": "text/x-python",
   "name": "python",
   "nbconvert_exporter": "python",
   "pygments_lexer": "ipython3",
   "version": "3.7.6"
  }
 },
 "nbformat": 4,
 "nbformat_minor": 4
}
